{
  "nbformat": 4,
  "nbformat_minor": 0,
  "metadata": {
    "kernelspec": {
      "display_name": "Python 3",
      "language": "python",
      "name": "python3"
    },
    "language_info": {
      "codemirror_mode": {
        "name": "ipython",
        "version": 3
      },
      "file_extension": ".py",
      "mimetype": "text/x-python",
      "name": "python",
      "nbconvert_exporter": "python",
      "pygments_lexer": "ipython3",
      "version": "3.8.3"
    },
    "colab": {
      "name": "lab4_ML.ipynb",
      "provenance": []
    }
  },
  "cells": [
    {
      "cell_type": "code",
      "metadata": {
        "id": "KqARFXMIZneU"
      },
      "source": [
        "def sse(yp,y, I):\n",
        "    errorlist = np.zeros((len(y),1))\n",
        "    \n",
        "    for i in range (I):\n",
        "        error=(1/2)*((yp[i]-y[i])**2)\n",
        "        errorlist[i]=error\n",
        "        \n",
        "    return np.sum(errorlist)"
      ],
      "execution_count": null,
      "outputs": []
    },
    {
      "cell_type": "code",
      "metadata": {
        "id": "mEfb6AQgZnee",
        "outputId": "32a8fd62-0647-481f-9964-0f045cd6cf50"
      },
      "source": [
        "'''QUESTION 1'''\n",
        "\n",
        "import matplotlib.pyplot as plt\n",
        "import matplotlib.dates as mdates\n",
        "import numpy as np\n",
        "import pandas as pd\n",
        "import random as rd\n",
        "\n",
        "x=np.zeros((40,10))\n",
        "xtrain=np.zeros((30,10))\n",
        "xtest=np.zeros((10,10))\n",
        "y=np.zeros((40,1))\n",
        "\n",
        "#40 sequences of 10 binary numbers\n",
        "for i in range (40):\n",
        "    for j in range (10):\n",
        "        x[i,j]=np.random.randint(0,2) #generate 0 or 1 randomly\n",
        "        temp=np.sum(x[i,:])\n",
        "        y[i]=temp #y = sum of its element\n",
        "        \n",
        "y=y.reshape(40,1)\n",
        "xtrain, xtest = np.split(x, [int(.75*len(x))])\n",
        "ytrain, ytest = np.split(y, [int(.75*len(y))])\n",
        "\n",
        "print(xtrain.shape)\n",
        "print(xtest.shape)\n",
        "print(ytrain.shape)"
      ],
      "execution_count": null,
      "outputs": [
        {
          "output_type": "stream",
          "text": [
            "(30, 10)\n",
            "(10, 10)\n",
            "(30, 1)\n"
          ],
          "name": "stdout"
        }
      ]
    },
    {
      "cell_type": "code",
      "metadata": {
        "id": "VJ4s8KvqZnek",
        "outputId": "372cba59-4b6b-4a71-9326-757dc759a14f"
      },
      "source": [
        "'''QUESTION 2.1 : BACK PROPAGATION'''\n",
        "\n",
        "T=10\n",
        "Iteramax=1000\n",
        "alpha=0.00001\n",
        "\n",
        "#Back propagation\n",
        "vfBACK = rd.random()\n",
        "vxBACK = rd.random()\n",
        "\n",
        "#vxBACK=5\n",
        "#vfBACK=5\n",
        "\n",
        "print('vxBACK before',vxBACK)\n",
        "print('vfBACK before', vfBACK)\n",
        "\n",
        "ypredict=np.zeros((30,1))\n",
        "f=np.zeros((30,10))\n",
        "\n",
        "ErrorB =[]\n",
        "dEvx=0\n",
        "dEvf=0\n",
        "for itera in range(Iteramax):\n",
        "    \n",
        "    #FWP\n",
        "    for i in range (30):\n",
        "        for t in range(1,T):\n",
        "            val1=f[i,t-1]*vfBACK\n",
        "            val2=vxBACK*xtrain[i,t]\n",
        "            f[i,t]=val1+val2\n",
        "            #f[i,t]=f[i,t-1]*vf[i]+xtrain[i,t]*vx[i]\n",
        "        ypredict[i]=f[i,t]\n",
        "    ErrorB.append(sse(ypredict,ytrain, 30))\n",
        "    \n",
        "    #BACK PROPAGATION    \n",
        "    dEvx=0\n",
        "    dEvf=0\n",
        "    for t in range (1,T):\n",
        "        power1=(vfBACK**(T-t))\n",
        "        dEvx += ((ypredict-(ytrain)).T.dot(xtrain[:,t]))*power1\n",
        "    vxBACK = vxBACK-alpha*dEvx\n",
        "    for t in range (1,T):\n",
        "        power2=(vfBACK**(T-t))\n",
        "        dEvf += ((ypredict-(ytrain)).T.dot(f[:,t-1]))*power2\n",
        "    vfBACK = vfBACK-alpha*dEvf\n",
        "    \n",
        "print('vxBACK after', vxBACK)\n",
        "print('vfBACK after',vfBACK)\n",
        "\n",
        "print('\\nIF vx & vf = 5, => explosition!! => error')\n",
        "#print('ypredict' ,ypredict)\n",
        "#print('ytrain', ytrain)"
      ],
      "execution_count": null,
      "outputs": [
        {
          "output_type": "stream",
          "text": [
            "vxBACK before 0.8587945091818544\n",
            "vfBACK before 0.5330693774104035\n",
            "vxBACK after [1.02649236]\n",
            "vfBACK after [1.01636527]\n",
            "\n",
            "IF vx & vf = 5, => explosition!! => error\n"
          ],
          "name": "stdout"
        }
      ]
    },
    {
      "cell_type": "code",
      "metadata": {
        "id": "2ET9x_wYZnep",
        "outputId": "a45fa744-0139-4dce-ca44-bac429e5b05d"
      },
      "source": [
        "'''QUESTION 3.1 : COMPARING BACKPROP RESULTS'''\n",
        "\n",
        "plt.plot(ErrorB, c='g', label='SSE', linestyle='-')\n",
        "plt.title(\"SSE Backpropagation\")\n",
        "plt.show()\n",
        "\n",
        "print('ypredict BACK PROPAGATION' ,ypredict.T)\n",
        "print('ytrain BACK PROPAGATION', ytrain.T)"
      ],
      "execution_count": null,
      "outputs": [
        {
          "output_type": "display_data",
          "data": {
            "image/png": "[encoded data removed]",
            "text/plain": [
              "<Figure size 432x288 with 1 Axes>"
            ]
          },
          "metadata": {
            "tags": [],
            "needs_background": "light"
          }
        },
        {
          "output_type": "stream",
          "text": [
            "ypredict BACK PROPAGATION [[3.1822232  6.55824952 5.51786327 4.40227468 8.77150328 5.44784303\n",
            "  9.86685876 7.58534976 2.19186535 3.35922905 7.6376596  5.48399387\n",
            "  7.6376596  7.62208248 4.40336364 2.21038076 5.41167314 7.76263955\n",
            "  4.35015941 7.60267268 5.39144004 1.02649916 3.30800816 4.42019869\n",
            "  1.11327949 8.78913871 4.42306201 6.66671155 5.44669785 6.68547372]]\n",
            "ytrain BACK PROPAGATION [[3. 7. 5. 5. 9. 6. 9. 7. 3. 4. 8. 5. 7. 8. 4. 3. 5. 7. 4. 7. 6. 2. 4. 5.\n",
            "  2. 9. 4. 7. 6. 7.]]\n"
          ],
          "name": "stdout"
        }
      ]
    },
    {
      "cell_type": "code",
      "metadata": {
        "id": "M7wjfxzoZnew",
        "outputId": "84df43fd-41fe-46c7-adaa-f5363cf338d5"
      },
      "source": [
        "'''QUESTION 2.2 RESILIENT PROPAGATION'''\n",
        "\n",
        "T=10\n",
        "Iteramax=1000\n",
        "alpha=0.00001\n",
        "\n",
        "npp=1.2\n",
        "nn=0.5\n",
        "dx=0.001\n",
        "df=0.001\n",
        "ErrorR =[]\n",
        "vfRES = rd.random()\n",
        "vxRES = rd.random()\n",
        "\n",
        "#vfRES=5\n",
        "#vxRES=5\n",
        "\n",
        "print('vxRES before',vxRES)\n",
        "print('vfRES before',vfRES)\n",
        "\n",
        "dEvx=0\n",
        "dEvf=0\n",
        "for itera in range(Iteramax):\n",
        "    \n",
        "    for i in range (30):\n",
        "        for t in range(1,T):\n",
        "            val1=f[i,t-1]*vfRES\n",
        "            val2=vxRES*xtrain[i,t]\n",
        "            f[i,t]=val1+val2\n",
        "            #f[i,t]=f[i,t-1]*vf[i]+xtrain[i,t]*vx[i]\n",
        "        ypredict[i]=f[i,t]\n",
        "    ErrorR.append(sse(ypredict,ytrain, 30))\n",
        "    \n",
        "    tempX=dEvx\n",
        "    tempF=dEvf\n",
        "    \n",
        "    dEvx=0\n",
        "    dEvf=0\n",
        "    for t in range (1,T):\n",
        "        power1=(vfRES**(T-t))\n",
        "        dEvx += ((ypredict-(ytrain)).T.dot(xtrain[:,t]))*power1\n",
        "    \n",
        "    for t in range (1,T):\n",
        "        power2=(vfRES**(T-t))\n",
        "        dEvf += ((ypredict-(ytrain)).T.dot(f[:,t-1]))*power2\n",
        "    \n",
        "    \n",
        "    #RESILIENT\n",
        "    if np.sign(dEvx)==np.sign(tempX):\n",
        "        n=npp\n",
        "    else:\n",
        "        n=nn\n",
        "    \n",
        "    dx=dx*n\n",
        "    vxRES=vxRES-np.sign(dEvx)*dx\n",
        "    \n",
        "    if np.sign(dEvf)==np.sign(tempF):\n",
        "        n=npp\n",
        "    else:\n",
        "        n=nn\n",
        "    df=df*n\n",
        "    vfRES=vfRES-np.sign(dEvf)*df\n",
        "    \n",
        "print('vxRES after',vxRES)\n",
        "print('vfRES after',vfRES)"
      ],
      "execution_count": null,
      "outputs": [
        {
          "output_type": "stream",
          "text": [
            "vxRES before 0.48315787862535353\n",
            "vfRES before 0.3267727271355083\n",
            "vxRES after [0.99265935]\n",
            "vfRES after [1.02457905]\n"
          ],
          "name": "stdout"
        }
      ]
    },
    {
      "cell_type": "code",
      "metadata": {
        "id": "3DX5az0pZne1",
        "outputId": "7ba68454-dd9c-4c05-9671-75107caf64f9"
      },
      "source": [
        "'''QUESTION 3.2 COMPARING RESULTS RESILIENT'''\n",
        "\n",
        "plt.plot(ErrorR, c='g', label='SSE', linestyle='-')\n",
        "plt.title(\"SSE Resilient propagation\")\n",
        "plt.show()\n",
        "\n",
        "print('ypredict RESILIENT' ,ypredict.T)\n",
        "print('ytrain RESILIENT', ytrain.T)"
      ],
      "execution_count": null,
      "outputs": [
        {
          "output_type": "display_data",
          "data": {
            "image/png": "[encoded data removed]",
            "text/plain": [
              "<Figure size 432x288 with 1 Axes>"
            ]
          },
          "metadata": {
            "tags": [],
            "needs_background": "light"
          }
        },
        {
          "output_type": "stream",
          "text": [
            "ypredict RESILIENT [[3.12863039 6.54558788 5.53505767 4.40910537 8.77061132 5.43120475\n",
            "  9.8645182  7.53962432 2.19039361 3.39256142 7.61698726 5.48566596\n",
            "  7.61698726 7.59539111 4.41146666 2.21861548 5.37667935 7.80418476\n",
            "  4.33207246 7.56513798 5.34463394 0.9926659  3.31755977 4.43598957\n",
            "  1.12079109 8.79685065 4.44236465 6.70900361 5.42865547 6.73773108]]\n",
            "ytrain RESILIENT [[3. 7. 5. 5. 9. 6. 9. 7. 3. 4. 8. 5. 7. 8. 4. 3. 5. 7. 4. 7. 6. 2. 4. 5.\n",
            "  2. 9. 4. 7. 6. 7.]]\n"
          ],
          "name": "stdout"
        }
      ]
    },
    {
      "cell_type": "code",
      "metadata": {
        "id": "rMt5fleTZne6",
        "outputId": "8d057c98-51af-4708-aeda-6381891e0a7d"
      },
      "source": [
        "'''QUESTION 2.3 GRADIENT CLIPPING'''\n",
        "T=10\n",
        "Iteramax=2000\n",
        "alpha=0.001\n",
        "n=10\n",
        "\n",
        "\n",
        "vfGRAD = rd.random()\n",
        "vxGRAD = rd.random()\n",
        "\n",
        "#vxGRAD=5\n",
        "#vxGRAD=5\n",
        "\n",
        "print('vxGRAD before',vxGRAD)\n",
        "print('vfGRAD before',vfGRAD)\n",
        "\n",
        "ypredict=np.zeros((30,1))\n",
        "f=np.zeros((30,10))\n",
        "\n",
        "Error =[]\n",
        "\n",
        "dEv=np.zeros((2,1))\n",
        "for itera in range(Iteramax):\n",
        "    \n",
        "    #FWP\n",
        "    for i in range (30):\n",
        "        for t in range(1,T):\n",
        "            val1=f[i,t-1]*vfGRAD\n",
        "            val2=vxGRAD*xtrain[i,t]\n",
        "            f[i,t]=val1+val2\n",
        "            #f[i,t]=f[i,t-1]*vf[i]+xtrain[i,t]*vx[i]\n",
        "        ypredict[i]=f[i,t]\n",
        "    Error.append(sse(ypredict,ytrain, 30))\n",
        "    \n",
        "    #BACK PROP  \n",
        "    dEvx=0\n",
        "    dEvf=0\n",
        "    for t in range (1,T):\n",
        "        power1=(vfGRAD**(T-t))\n",
        "        dEvx += ((ypredict-(ytrain)).T.dot(xtrain[:,t]))*power1\n",
        "    \n",
        "    for t in range (1,T):\n",
        "        power2=(vfGRAD**(T-t))\n",
        "        dEvf += ((ypredict-(ytrain)).T.dot(f[:,t-1]))*power2\n",
        "    \n",
        "    #GRADIENT CLIPPING\n",
        "    dEv[0]=dEvx\n",
        "    dEv[1]=dEvf\n",
        "    \n",
        "    module=np.linalg.norm(dEv)\n",
        "    \n",
        "    if module > n:\n",
        "        dEv = (n*dEv)/module\n",
        "        vxGRAD = vxGRAD - alpha*dEv[0]\n",
        "        vfGRAD = vfGRAD - alpha*dEv[1]\n",
        "        dEvx=dEv[0]\n",
        "        dEvf=dEv[1]\n",
        "    else:\n",
        "        vfGRAD = vfGRAD - alpha * dEvf\n",
        "        vxGRAD = vxGRAD - alpha * dEvx\n",
        "    \n",
        "print('vxGRAD after', vxGRAD)\n",
        "print('vfGRAD after',vfGRAD)\n",
        "\n",
        "#print(ypredict)\n",
        "#print(ytrain)"
      ],
      "execution_count": null,
      "outputs": [
        {
          "output_type": "stream",
          "text": [
            "vxGRAD before 0.4887624490249105\n",
            "vfGRAD before 0.6603622524607112\n",
            "vxGRAD after [0.99338807]\n",
            "vfGRAD after [1.02897501]\n"
          ],
          "name": "stdout"
        }
      ]
    },
    {
      "cell_type": "code",
      "metadata": {
        "id": "AZ5DKxMaZnfA",
        "outputId": "782dccf0-8b7c-4c6a-e5ee-1d569c101652"
      },
      "source": [
        "'''QUESTION 3.3 COMPARING GRADIENT CLIPPING RESULTS'''\n",
        "\n",
        "plt.plot(Error, c='g', label='SSE', linestyle='-')\n",
        "plt.title(\"SSE Gradient Clipping\")\n",
        "plt.show()\n",
        "\n",
        "print('ypredict GRADIENT CLIPPING' ,ypredict.T)\n",
        "print('ytrain GRADIENT CLIPPING', ytrain.T)"
      ],
      "execution_count": null,
      "outputs": [
        {
          "output_type": "display_data",
          "data": {
            "image/png": "[encoded data removed]",
            "text/plain": [
              "<Figure size 432x288 with 1 Axes>"
            ]
          },
          "metadata": {
            "tags": [],
            "needs_background": "light"
          }
        },
        {
          "output_type": "stream",
          "text": [
            "ypredict GRADIENT CLIPPING [[3.09012942 6.40243721 5.39629025 4.30296614 8.56847824 5.3161061\n",
            "  9.63807669 7.39424229 2.14075528 3.29321409 7.45408869 5.35773496\n",
            "  7.45408869 7.43665778 4.30442069 2.16216538 5.27444692 7.59770916\n",
            "  4.24335999 7.41403337 5.25072125 0.99098784 3.23482225 4.32357446\n",
            "  1.09020676 8.588697   4.32743466 6.52733895 5.3145623  6.54907233]]\n",
            "ytrain GRADIENT CLIPPING [[3. 7. 5. 5. 9. 6. 9. 7. 3. 4. 8. 5. 7. 8. 4. 3. 5. 7. 4. 7. 6. 2. 4. 5.\n",
            "  2. 9. 4. 7. 6. 7.]]\n"
          ],
          "name": "stdout"
        }
      ]
    },
    {
      "cell_type": "code",
      "metadata": {
        "id": "pRWyjNSWZnfH",
        "outputId": "f2979217-952e-457f-faa6-37c0464d241a"
      },
      "source": [
        "'''QUESTION 4'''\n",
        "\n",
        "print('For question 4, \\n\\nRemove comment on \"vx & vf = 5\" and add comment on \"vx & vf = random\"')\n",
        "print('\\nPlease remove comment on vx & vf at : \\n\\n\\tLine 11/12 at question 2.1\\n\\n\\tLine 15/16 at question 2.2\\n\\n\\tLine 11/12 at question 2.3')"
      ],
      "execution_count": null,
      "outputs": [
        {
          "output_type": "stream",
          "text": [
            "For question 4, \n",
            "\n",
            "Remove comment on \"vx & vf = 5\" and add comment on \"vx & vf = random\"\n",
            "\n",
            "Please remove comment on vx & vf at : \n",
            "\n",
            "\tLine 11/12 at question 2.1\n",
            "\n",
            "\tLine 15/16 at question 2.2\n",
            "\n",
            "\tLine 11/12 at question 2.3\n"
          ],
          "name": "stdout"
        }
      ]
    },
    {
      "cell_type": "code",
      "metadata": {
        "id": "xqcDnUHVZnfL"
      },
      "source": [
        "'''QUESTION 5'''\n",
        "\n",
        "#BACK PROP\n",
        "ErrorBACK=[]\n",
        "ypredictBACK=np.zeros((10,1))\n",
        "for i in range (10):\n",
        "    for t in range(1,T):\n",
        "        val1=f[i,t-1]*vfBACK\n",
        "        val2=vxBACK*xtest[i,t]\n",
        "        f[i,t]=val1+val2\n",
        "    ypredictBACK[i]=f[i,t]\n",
        "ErrorBACK.append(sse(ypredictBACK,ytest, 10))\n",
        "  \n",
        "#RESILIENT\n",
        "ErrorRES=[]\n",
        "ypredictRES=np.zeros((10,1))\n",
        "for i in range (10):\n",
        "    for t in range(1,T):\n",
        "        val1=f[i,t-1]*vfRES\n",
        "        val2=vxRES*xtest[i,t]\n",
        "        f[i,t]=val1+val2\n",
        "    ypredictRES[i]=f[i,t]\n",
        "ErrorRES.append(sse(ypredictRES,ytest, 10))\n",
        "    \n",
        "#GRADIENT CLIPPING\n",
        "ErrorGRAD=[]\n",
        "ypredictGRAD=np.zeros((10,1))\n",
        "for i in range (10):\n",
        "    for t in range(1,T):\n",
        "        val1=f[i,t-1]*vfGRAD\n",
        "        val2=vxGRAD*xtest[i,t]\n",
        "        f[i,t]=val1+val2\n",
        "    ypredictGRAD[i]=f[i,t]\n",
        "ErrorGRAD.append(sse(ypredictGRAD,ytest, 10))"
      ],
      "execution_count": null,
      "outputs": []
    },
    {
      "cell_type": "code",
      "metadata": {
        "id": "OHPrQu5ulwsT",
        "colab": {
          "base_uri": "https://localhost:8080/"
        },
        "outputId": "68461c21-4097-43b5-ab96-9cb50d56a26c"
      },
      "source": [
        "def greet_me(**kwargs):\n",
        "    for key, value in kwargs.items():\n",
        "        print(\"{0} = {1}\".format(key, value))\n",
        "\n",
        "greet_me(name=\"yasoob\",names=\"yasoob\")\n"
      ],
      "execution_count": null,
      "outputs": [
        {
          "output_type": "stream",
          "text": [
            "name = yasoob\n",
            "names = yasoob\n"
          ],
          "name": "stdout"
        }
      ]
    },
    {
      "cell_type": "code",
      "metadata": {
        "id": "e8tqyyE_ZnfQ",
        "outputId": "0ca630bf-df2d-46bf-c396-816948ec0beb"
      },
      "source": [
        "print('ypredictBACK\\n',ypredictBACK.T)\n",
        "print('\\nypredictRES\\n', ypredictRES.T)\n",
        "print('\\nypredictGRAD\\n',ypredictGRAD.T)\n",
        "print('\\nytest\\n',ytest.T)"
      ],
      "execution_count": null,
      "outputs": [
        {
          "output_type": "stream",
          "text": [
            "ypredictBACK\n",
            " [[3.13014848 4.45693834 5.4834307  2.31885532 4.43808988 7.58473948\n",
            "  5.5363468  6.52151066 3.32366345 4.47542753]]\n",
            "\n",
            "ypredictRES\n",
            " [[3.0517736  4.49178842 5.48444777 2.3820631  4.4627754  7.53827277\n",
            "  5.5631901  6.48983999 3.33942694 4.51991969]]\n",
            "\n",
            "ypredictGRAD\n",
            " [[3.06734851 4.59572127 5.58910933 2.46166779 4.56041135 7.65558564\n",
            "  5.68321081 6.59483116 3.41093618 4.62972971]]\n",
            "\n",
            "ytest\n",
            " [[4. 4. 5. 2. 5. 8. 6. 6. 3. 4.]]\n"
          ],
          "name": "stdout"
        }
      ]
    }
  ]
}